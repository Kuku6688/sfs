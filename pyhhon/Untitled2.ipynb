{
 "cells": [
  {
   "cell_type": "code",
   "execution_count": null,
   "metadata": {},
   "outputs": [],
   "source": [
    "# 给每行加行号\n",
    "# 用#对齐\n",
    "# 最长的行长度\n",
    "max_len = 0\n",
    "new_line\n",
    "for line in lines\n",
    "    if len(line)>max(line)\n",
    "        max(line) = len(line)\n",
    "print(max)\n",
    "new_close\n",
    "line_num = 1\n",
    "for line in lines:\n",
    "    line_num += 1\n",
    "    tmp_line = line.rstrip() + \"#\" + str(line_num)\n",
    "    print(tmp_line)"
   ]
  }
 ],
 "metadata": {
  "kernelspec": {
   "display_name": "Python 3",
   "language": "python",
   "name": "python3"
  },
  "language_info": {
   "codemirror_mode": {
    "name": "ipython",
    "version": 3
   },
   "file_extension": ".py",
   "mimetype": "text/x-python",
   "name": "python",
   "nbconvert_exporter": "python",
   "pygments_lexer": "ipython3",
   "version": "3.7.0"
  }
 },
 "nbformat": 4,
 "nbformat_minor": 2
}
