{
 "cells": [
  {
   "cell_type": "code",
   "execution_count": null,
   "metadata": {},
   "outputs": [],
   "source": [
    "#打开并读取文件\n",
    "file = open(r\"C:\\Users\\Administrator\\Desktop\\Walden.txt\",\"r\")\n",
    "lines = file.readlines()\n",
    "# 把每行拆成单词\n",
    "words = []\n",
    "for line in lines:\n",
    "    tmp_list = line.split(\" \")\n",
    "    for word in tmp_list:\n",
    "        words.append(word.lower())\n",
    "# 对words中出现一个元素出现个数\n",
    "# 把统计结果保存到字典中，key是单词，value是单词出现的次数\n",
    "words_count = {}\n",
    "word_set = set(words)\n",
    "for word in word_set:\n",
    "    count_num = words.count(word)\n",
    "    words_count[word] = count_num\n",
    "# 对word_count字典排序，按照出现次数进行降序排序\n",
    "sorted(words_count.items(),key=lambda item: item[1], reverse=True)"
   ]
  }
 ],
 "metadata": {
  "kernelspec": {
   "display_name": "Python 3",
   "language": "python",
   "name": "python3"
  },
  "language_info": {
   "codemirror_mode": {
    "name": "ipython",
    "version": 3
   },
   "file_extension": ".py",
   "mimetype": "text/x-python",
   "name": "python",
   "nbconvert_exporter": "python",
   "pygments_lexer": "ipython3",
   "version": "3.7.0"
  }
 },
 "nbformat": 4,
 "nbformat_minor": 2
}
